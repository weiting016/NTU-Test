{
 "cells": [
  {
   "cell_type": "markdown",
   "metadata": {},
   "source": [
    "# Question2: Enzyme Kinetics"
   ]
  },
  {
   "cell_type": "markdown",
   "metadata": {},
   "source": [
    "### 1.  Four equations for the rate of change \n",
    "\n",
    "By appling the law of mass action: \n",
    "\n",
    "define $[E]$, $[S]$, $[ES]$, $[P]$ as the concentration of four components respectively <br>\n",
    "\n",
    "$\\frac{d[E]}{dt} = k_2[ES] + k_3[ES] - k_1[E][S]$ <br>\n",
    "$\\frac{d[S]}{dt} = k_2[ES]- k_1[E][S] $ <br>\n",
    "$\\frac{d[ES]}{dt} =k_1[E][S]-k_2[ES]-k_3[ES] $ <br>\n",
    "$\\frac{d[P]}{dt} = k_3[ES]$"
   ]
  },
  {
   "cell_type": "markdown",
   "metadata": {},
   "source": [
    "### 2. Coding solution for equations in 1 under given conditions"
   ]
  },
  {
   "cell_type": "code",
   "execution_count": 1,
   "metadata": {},
   "outputs": [],
   "source": [
    "import numpy as np\n",
    "import matplotlib.pyplot as plt"
   ]
  },
  {
   "cell_type": "code",
   "execution_count": 2,
   "metadata": {},
   "outputs": [],
   "source": [
    "# define 4 equations in question 2.1\n",
    "def fe(t, e, s, es, p):\n",
    "    return k1*e*s - k2*es - k3*es\n",
    "\n",
    "def fs(t, e, s, es, p):\n",
    "    return k1*e*s - k2*es\n",
    "\n",
    "def fes(t, e, s, es, p):\n",
    "    return k1*e*s - k2*es - k3*es\n",
    "\n",
    "def fp(t, e, s, es, p):\n",
    "    return k3*es"
   ]
  },
  {
   "cell_type": "code",
   "execution_count": 7,
   "metadata": {},
   "outputs": [],
   "source": [
    "#rate constants given by the question\n",
    "k1 = 100\n",
    "k2 = 600\n",
    "k3 = 150\n",
    "\n",
    "#use list to store each iterations value\n",
    "#given initial concentration of e,s,es,p\n",
    "e = [1]\n",
    "s = [10]\n",
    "es = [0]\n",
    "p = [0]\n",
    "\n",
    "# set the step size h and interation number N, t is used to record time\n",
    "t = [0]\n",
    "h = 0.00001\n",
    "N = 30000\n"
   ]
  },
  {
   "cell_type": "markdown",
   "metadata": {},
   "source": [
    "General 4th-order runge-kutta method formula <br>\n",
    "$k_1 = f(y(t_0),t_0)$ <br>\n",
    "$k_2 = f(y(t_0)+k_1\\frac{h}{2},t_0+\\frac{h}{2})$ <br>\n",
    "$k_3 = f(y(t_0+k_2\\frac{h}{2}),t_0+\\frac{h}{2})$ <br>\n",
    "$k_4 = f(y(t_0)+k_3h,t_0+h)$ <br>\n",
    "$y(t_0+h) = y(t_0)+\\frac{h}{6}(k_1+2k_2+2k_3+k_4) $"
   ]
  },
  {
   "cell_type": "code",
   "execution_count": 8,
   "metadata": {},
   "outputs": [],
   "source": [
    "# 4th order Runge-Kutta method to solve the ODEs\n",
    "#coding the formula from above\n",
    "#list[-1] takes the last value in the list to do calculation\n",
    "\n",
    "for i in range(N):\n",
    "    # for element E\n",
    "    ke1 = fe(t[-1], e[-1], s[-1], es[-1], p[-1])\n",
    "    ke2 = fe(t[-1]+h/2, e[-1]+ke1*h/2, s[-1]+ke1*h/2, es[-1]+ke1*h/2, p[-1]+h*ke1/2)\n",
    "    ke3 = fe(t[-1]+h/2, e[-1]+ke2*h/2, s[-1]+ke2*h/2, es[-1]+ke2*h/2, p[-1]+h*ke2/2)\n",
    "    ke4 = fe(t[-1]+h, e[-1]+h*ke3, s[-1]+h*ke3, es[-1]+h*ke3,p[-1]+h*ke3)\n",
    "    et = e[-1] - h/6*(ke1 + 2*ke2 + 2*ke3 + ke4)\n",
    "    \n",
    "    \n",
    "    # for element S\n",
    "    ks1 = fs(t[-1], e[-1], s[-1], es[-1], p[-1])\n",
    "    ks2 = fs(t[-1] + 0.5*h, e[-1] + 0.5*h*ks1, s[-1] + 0.5*h*ks1, es[-1] + 0.5*h*ks1, p[-1] + 0.5*h*ks1)\n",
    "    ks3 = fs(t[-1] + 0.5*h, e[-1] + 0.5*h*ks2, s[-1] + 0.5*h*ks2, es[-1] + 0.5*h*ks2, p[-1] + 0.5*h*ks2)\n",
    "    ks4 = fs(t[-1] + h, e[-1] + h*ks3, s[-1] + h*ks3, es[-1] + h*ks3, p[-1] + h*ks3)\n",
    "    st = s[-1] - h/6*(ks1 + 2*ks2 + 2*ks3 + ks4)\n",
    "\n",
    "\n",
    "    # for element ES\n",
    "    kes1 = fes(t[-1], e[-1], s[-1], es[-1], p[-1])\n",
    "    kes2 = fes(t[-1] + 0.5*h, e[-1] + 0.5*h*kes1, s[-1] + 0.5*h*kes1, es[-1] + 0.5*h*kes1, p[-1] + 0.5*h*kes1)\n",
    "    kes3 = fes(t[-1] + 0.5*h, e[-1] + 0.5*h*kes2, s[-1] + 0.5*h*kes2, es[-1] + 0.5*h*kes2, p[-1] + 0.5*h*kes2)\n",
    "    kes4 = fes(t[-1] + h, e[-1] + h*kes3, s[-1] + h*kes3, es[-1] + h*kes3, p[-1] + h*kes3)\n",
    "    est = es[-1] + h/6*(kes1 + 2*kes2 + 2*kes3 + kes4)\n",
    "\n",
    "    # for element P\n",
    "    kp1 = fp(t[-1], e[-1], s[-1], es[-1], p[-1])\n",
    "    kp2 = fp(t[-1] + 0.5*h, e[-1] + 0.5*h*kp1, s[-1] + 0.5*h*kp1, es[-1] + 0.5*h*kp1, p[-1] + 0.5*h*kp1)\n",
    "    kp3 = fp(t[-1] + 0.5*h, e[-1] + 0.5*h*kp2, s[-1] + 0.5*h*kp2, es[-1] + 0.5*h*kp2, p[-1] + 0.5*h*kp2)\n",
    "    kp4 = fp(t[-1] + h, e[-1] + h*kp3, s[-1] + h*kp3, es[-1] + h*kp3, p[-1] + h*kp3)\n",
    "    pt = p[-1] + h/6*(kp1 + 2*kp2 + 2*kp3 + kp4)\n",
    "\n",
    "    #store each iteration value into the list\n",
    "    s.append(st)\n",
    "    e.append(et)\n",
    "    es.append(est)\n",
    "    p.append(pt)\n",
    "    \n",
    "    t.append(t[-1] + h)\n",
    "\n",
    "\n"
   ]
  },
  {
   "cell_type": "code",
   "execution_count": 9,
   "metadata": {},
   "outputs": [
    {
     "data": {
      "image/png": "[encoded data removed]",
      "text/plain": [
       "<Figure size 432x288 with 1 Axes>"
      ]
     },
     "metadata": {
      "needs_background": "light"
     },
     "output_type": "display_data"
    }
   ],
   "source": [
    "plt.plot(t, e, label='E')\n",
    "plt.plot(t, s, label='S')\n",
    "plt.plot(t, es, label='ES')\n",
    "plt.plot(t, p, label='P')\n",
    "plt.xlabel('time')\n",
    "plt.ylabel('Concentration')\n",
    "\n",
    "plt.legend()\n",
    "plt.show()"
   ]
  },
  {
   "cell_type": "markdown",
   "metadata": {},
   "source": [
    "### 3. Find velocity V <br>\n",
    "\n",
    "As the equation funded in question 1, the fomula of V is: <br>\n",
    "$V = \\frac{d[P]}{dt} = k_3[ES]$"
   ]
  },
  {
   "cell_type": "code",
   "execution_count": 10,
   "metadata": {},
   "outputs": [
    {
     "name": "stdout",
     "output_type": "stream",
     "text": [
      "The max velocity: 82.66 uM/min\n"
     ]
    },
    {
     "data": {
      "image/png": "[encoded data removed]",
      "text/plain": [
       "<Figure size 432x288 with 1 Axes>"
      ]
     },
     "metadata": {
      "needs_background": "light"
     },
     "output_type": "display_data"
    }
   ],
   "source": [
    "V = []\n",
    "for i in range(len(es)):\n",
    "    V.append(k3*es[i])\n",
    "    \n",
    "max_v = max(V)\n",
    "mv_index = V.index(max_v)\n",
    "\n",
    "print(\"The max velocity: \"+ \"%.2f\" %max_v +\" uM/min\")\n",
    "\n",
    "plt.xlabel('S Concentration')\n",
    "plt.ylabel('P changing rate')\n",
    "plt.plot(s[mv_index],V[mv_index],'ko') #draw the point\n",
    "plt.plot(s, V)\n",
    "plt.show()"
   ]
  },
  {
   "cell_type": "code",
   "execution_count": null,
   "metadata": {},
   "outputs": [],
   "source": []
  },
  {
   "cell_type": "markdown",
   "metadata": {},
   "source": [
    "reference: <br>\n",
    "https://blog.csdn.net/qq_44183524/article/details/105911948?ops_request_misc=&request_id=&biz_id=102&utm_term=%E9%BE%99%E6%A0%BC%E5%BA%93%E5%A1%94%E8%A7%A3%E5%BE%AE%E5%88%86%E6%96%B9%E7%A8%8B%E7%BB%84&utm_medium=distribute.pc_search_result.none-task-blog-2~all~sobaiduweb~default-4-105911948.nonecase&spm=1018.2226.3001.4187"
   ]
  },
  {
   "cell_type": "code",
   "execution_count": null,
   "metadata": {},
   "outputs": [],
   "source": []
  }
 ],
 "metadata": {
  "kernelspec": {
   "display_name": "base",
   "language": "python",
   "name": "python3"
  },
  "language_info": {
   "codemirror_mode": {
    "name": "ipython",
    "version": 3
   },
   "file_extension": ".py",
   "mimetype": "text/x-python",
   "name": "python",
   "nbconvert_exporter": "python",
   "pygments_lexer": "ipython3",
   "version": "3.7.6"
  },
  "vscode": {
   "interpreter": {
    "hash": "8c69962e7e4eb604fe707c150555b3f015060efe71134ad6a213a4e885bdb588"
   }
  }
 },
 "nbformat": 4,
 "nbformat_minor": 4
}
